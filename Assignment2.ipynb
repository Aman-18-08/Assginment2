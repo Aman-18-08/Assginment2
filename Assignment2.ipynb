{
  "nbformat": 4,
  "nbformat_minor": 0,
  "metadata": {
    "colab": {
      "provenance": []
    },
    "kernelspec": {
      "name": "python3",
      "display_name": "Python 3"
    },
    "language_info": {
      "name": "python"
    }
  },
  "cells": [
    {
      "cell_type": "markdown",
      "source": [
        "***Data Types and Structures Questions***"
      ],
      "metadata": {
        "id": "iGm_ftCz3tXX"
      }
    },
    {
      "cell_type": "markdown",
      "source": [
        "Q1. What are data structures, and why are they important ?\n",
        "\n",
        "\n",
        "*   Data structures are specialized formats for organizing, storing, and accessing collections of data. They provide efficient ways to manage information based on its characteristics and intended use.\n",
        "\n",
        " Importance:\n",
        " 1. Choosing the right data structure significantly impacts the efficiency and performance of your program.\n",
        " 2. Conserve memory usage\n",
        " 3. Optimize searching and sorting operations\n",
        " 4. Simplify data manipulation (adding, removing, modifying elements)\n",
        "\n"
      ],
      "metadata": {
        "id": "Bb3yNJzN0XVQ"
      }
    },
    {
      "cell_type": "markdown",
      "source": [
        "Q2.  Explain the difference between mutable and immutable data types with examples?\n",
        "\n",
        "\n",
        "*   mutable data types can be changed after they are created, while immutable data types cannot be modified once they are initialized. Examples of mutable data types include lists and dictionaries, while examples of immutable data types include strings and tuples\n",
        "\n",
        "\n"
      ],
      "metadata": {
        "id": "Mp5ZmxDQ1PDd"
      }
    },
    {
      "cell_type": "markdown",
      "source": [
        "Q3. What are the main differences between lists and tuples in Python?\n",
        "\n",
        "\n",
        "*   Lists: Ordered, mutable collections of elements. Think of shopping lists or task lists. Lists can hold items of various data types (numbers, strings, even other lists!).\n",
        "*   Tuples: Ordered, immutable collections of elements, similar to lists. However, once created, the items in a tuple cannot be changed. They provide a secure way to store data that shouldn't be modified.\n",
        "\n"
      ],
      "metadata": {
        "id": "OO350uIA147O"
      }
    },
    {
      "cell_type": "markdown",
      "source": [
        "Q4. Describe how dictionaries store data.\n",
        "\n",
        "\n",
        "1.   Unordered collections: Elements are not stored in a specific order.\n",
        "2.   Unique key-value pairs: Each key acts as a unique identifier for retrieving an associated value.\n",
        "3. Flexible data: Keys and values can be of various data types (strings, numbers, lists, and even other dictionaries).\n",
        "\n"
      ],
      "metadata": {
        "id": "2oohWePY2WLf"
      }
    },
    {
      "cell_type": "markdown",
      "source": [
        "Q5. Why might you use a set instead of a list in Python?\n",
        "\n",
        "\n",
        "*   A set in Python is preferred over a list in scenarios where maintaining uniqueness and performing set operations are crucial, or when the order of elements is not important. Sets inherently store only unique elements, automatically eliminating duplicates. This characteristic is beneficial when dealing with data where redundancy needs to be avoided.\n",
        "*   Sets are useful for checking membership (if an item exists) or finding the intersection/difference between sets.\n",
        "\n"
      ],
      "metadata": {
        "id": "I7YizN8o29tX"
      }
    },
    {
      "cell_type": "markdown",
      "source": [
        "Q6. What is a string in Python, and how is it different from a list?\n",
        "\n",
        "\n",
        "*   A string is a sequence of characters between single or double quotes.\n",
        "*   A list is mutable, meaning you can modify its elements after it is created. On the other hand, a string is immutable, which means you cannot change its characters once it is created.\n",
        "\n"
      ],
      "metadata": {
        "id": "Nr0133j83oXr"
      }
    },
    {
      "cell_type": "markdown",
      "source": [
        "Q7. How do tuples ensure data integrity in Python?\n",
        "\n",
        "\n",
        "1.   Tuples in Python ensure data integrity primarily through their immutability. Once a tuple is created, its contents cannot be changed, added, or removed.\n",
        "2.   This characteristic ensures that the data stored within a tuple remains constant throughout its lifecycle, preventing accidental or unauthorized modification.\n",
        "\n"
      ],
      "metadata": {
        "id": "pjSWlkxr4yjC"
      }
    },
    {
      "cell_type": "markdown",
      "source": [
        "Q8. What is a hash table, and how does it relate to dictionaries in Python?\n",
        "\n",
        "\n",
        "*   A hash table is a data structure that stores key-value pairs, using a hash function to compute an index for each key, which determines the position of the corresponding value in an array (the \"hash table\" itself). This allows for efficient retrieval, insertion, and deletion of data.\n",
        "*   In Python, dictionaries are implemented using hash tables. When a key-value pair is added to a dictionary, Python calculates the hash value of the key and uses it to determine where to store the value\n",
        "\n"
      ],
      "metadata": {
        "id": "FjaXuqMN5Nmf"
      }
    },
    {
      "cell_type": "markdown",
      "source": [
        "Q9. Can lists contain different data types in Python?\n",
        "\n",
        "\n",
        "1.   Lists can hold items of various data types (numbers, strings, even other lists!).\n",
        "\n"
      ],
      "metadata": {
        "id": "wEM0ZpeJ50eS"
      }
    },
    {
      "cell_type": "markdown",
      "source": [
        "Q10. Explain why strings are immutable in Python.\n",
        "1.\n",
        "Immutability prevents accidental modification of string data, which can be crucial in multi-threaded environments or when working with shared data. It ensures that a string's value remains consistent throughout its lifetime."
      ],
      "metadata": {
        "id": "Fc632ELr6EYZ"
      }
    },
    {
      "cell_type": "markdown",
      "source": [
        "Q11. What advantages do dictionaries offer over lists for certain tasks?\n",
        "\n",
        "\n",
        "*   Dictionaries can be much more useful than lists. For example : suppose we wanted to store all our friend's cell phone numbers. We could create a list of pairs phone number name but once this list becomes long enough searching this list for a specific phone number will get time consuming.\n",
        "*  Dictionaries in Python offer fast data retrieval: Unlike lists where you have to traverse through each element to find a value, dictionaries use hash tables for quick access to values based on keys.  \n",
        "\n"
      ],
      "metadata": {
        "id": "vpPxBvp06im7"
      }
    },
    {
      "cell_type": "markdown",
      "source": [
        "Q12.  Describe a scenario where using a tuple would be preferable over a list.\n",
        "\n",
        "\n",
        "*   When to use tuples or lists depends on your needs. There may be some occasions when you don't want your data to be changed. If you have data that's not meant to be changed in the first place — such as critical information or records — you should choose tuple data type over lists.\n",
        "\n"
      ],
      "metadata": {
        "id": "e2RNJNYZ7UVl"
      }
    },
    {
      "cell_type": "markdown",
      "source": [
        "Q13.  How do sets handle duplicate values in Python?\n",
        "*  In sets, Duplicate entries are not allowed."
      ],
      "metadata": {
        "id": "1epK3NCz7yUs"
      }
    },
    {
      "cell_type": "markdown",
      "source": [
        "Q14. How does the “in” keyword work differently for lists and dictionaries?\n",
        "* the \"in\" operation for the dictionary tests on keys. The key of the dictionary is a unique value as well as the set, and the execution time is about the same as for sets. On the other hand, dictionary values can be duplicated like a list."
      ],
      "metadata": {
        "id": "osmAvXNC8Wou"
      }
    },
    {
      "cell_type": "markdown",
      "source": [
        "Q15. Can you modify the elements of a tuple? Explain why or why not.\n",
        "* However, once created, the items in a tuple cannot be changed. They provide a secure way to store data that shouldn't be modified."
      ],
      "metadata": {
        "id": "roFiS1ih9S_O"
      }
    },
    {
      "cell_type": "markdown",
      "source": [
        "Q16. What is a nested dictionary, and give an example of its use case?\n",
        "* a nested dictionary is a dictionary inside a dictionary. It's a collection of dictionaries into one single dictionary."
      ],
      "metadata": {
        "id": "m6HD_sQP9pNW"
      }
    },
    {
      "cell_type": "code",
      "source": [
        "#Use case\n",
        "nested_dict = {1:{\"name\": \"aman\", \"age\": 22}, 2: {\"name\": \"ayush\" , \"age\": 21}}\n",
        "print(nested_dict)\n",
        "\n"
      ],
      "metadata": {
        "colab": {
          "base_uri": "https://localhost:8080/"
        },
        "id": "Xii5TDzA-gjf",
        "outputId": "8f5ce1d3-7b8a-4f6e-ce83-265f64e7ef2d"
      },
      "execution_count": 3,
      "outputs": [
        {
          "output_type": "stream",
          "name": "stdout",
          "text": [
            "{1: {'name': 'aman', 'age': 22}, 2: {'name': 'ayush', 'age': 21}}\n"
          ]
        }
      ]
    },
    {
      "cell_type": "markdown",
      "source": [
        "Q17. Describe the time complexity of accessing elements in a dictionary.\n",
        "* The time complexity of accessing an element in a dictionary (also known as a hash table or associative array) is typically O(1), meaning it takes constant time regardless of the dictionary's size. This is because dictionaries use hashing to map keys to their corresponding values, allowing for direct access to the desired value in a single step"
      ],
      "metadata": {
        "id": "o76yrf_5_dIL"
      }
    },
    {
      "cell_type": "markdown",
      "source": [
        "Q18.  In what situations are lists preferred over dictionaries?\n",
        "* Lists perform faster for ordered operations like sorting"
      ],
      "metadata": {
        "id": "JPS62NdE_31x"
      }
    },
    {
      "cell_type": "markdown",
      "source": [
        "Q19. Why are dictionaries considered unordered, and how does that affect data retrieval?\n",
        "* A dictionary is termed an unordered collection of objects because dictionaries do not maintain any inherent order of the items based on when they were added."
      ],
      "metadata": {
        "id": "yjR6qEJPAG_J"
      }
    },
    {
      "cell_type": "markdown",
      "source": [
        "Q20. Explain the difference between a list and a dictionary in terms of data retrieval.\n",
        "* In terms of data retrieval, a dictionary excels at fast lookups by key, while a list is better suited for sequential access by index.\n",
        "* Dictionaries use a hash-based approach, allowing for nearly instantaneous retrieval of a value when the key is known, whereas lists require traversing the list sequentially until the desired element is found."
      ],
      "metadata": {
        "id": "4nbTpTvLAcj3"
      }
    },
    {
      "cell_type": "markdown",
      "source": [
        "***Practical Questions***"
      ],
      "metadata": {
        "id": "P6utnLPEAwr-"
      }
    },
    {
      "cell_type": "code",
      "source": [
        "# Q1. Write a code to create a string with your name and print it\n",
        "\n",
        "name = \"aman\"\n",
        "print(name)"
      ],
      "metadata": {
        "colab": {
          "base_uri": "https://localhost:8080/"
        },
        "id": "E6ndl7OhA8kB",
        "outputId": "94ae6e3f-7421-4db7-90a6-37de037abc83"
      },
      "execution_count": 4,
      "outputs": [
        {
          "output_type": "stream",
          "name": "stdout",
          "text": [
            "aman\n"
          ]
        }
      ]
    },
    {
      "cell_type": "code",
      "source": [
        "# Q2.Write a code to find the length of the string \"Hello World\"\n",
        "\n",
        "a= \"Hello World\"\n",
        "len(a)"
      ],
      "metadata": {
        "colab": {
          "base_uri": "https://localhost:8080/"
        },
        "id": "1Ym3dpgQBJE5",
        "outputId": "4479dbd0-9e89-4b17-c3cd-af0c9d7dc741"
      },
      "execution_count": 5,
      "outputs": [
        {
          "output_type": "execute_result",
          "data": {
            "text/plain": [
              "11"
            ]
          },
          "metadata": {},
          "execution_count": 5
        }
      ]
    },
    {
      "cell_type": "code",
      "source": [
        "# Q3. Write a code to slice the first 3 characters from the string \"Python Programming\n",
        "\n",
        "b = \"Python Programmimg\"\n",
        "b[:3]"
      ],
      "metadata": {
        "colab": {
          "base_uri": "https://localhost:8080/",
          "height": 35
        },
        "id": "cVE999e7BTLN",
        "outputId": "84a1678b-2455-468b-853b-f812238ea0b8"
      },
      "execution_count": 6,
      "outputs": [
        {
          "output_type": "execute_result",
          "data": {
            "text/plain": [
              "'Pyt'"
            ],
            "application/vnd.google.colaboratory.intrinsic+json": {
              "type": "string"
            }
          },
          "metadata": {},
          "execution_count": 6
        }
      ]
    },
    {
      "cell_type": "code",
      "source": [
        "# Q4. Write a code to convert the string \"hello\" to uppercase\n",
        "\n",
        "hi = \"hello\"\n",
        "hi.upper()"
      ],
      "metadata": {
        "colab": {
          "base_uri": "https://localhost:8080/",
          "height": 35
        },
        "id": "6gNJ6n8zCXIt",
        "outputId": "b5142e6f-489b-4263-fad1-ded85ded906d"
      },
      "execution_count": 7,
      "outputs": [
        {
          "output_type": "execute_result",
          "data": {
            "text/plain": [
              "'HELLO'"
            ],
            "application/vnd.google.colaboratory.intrinsic+json": {
              "type": "string"
            }
          },
          "metadata": {},
          "execution_count": 7
        }
      ]
    },
    {
      "cell_type": "code",
      "source": [
        "# Q5. Write a code to replace the word \"apple\" with \"orange\" in the string \"I like apple\"\n",
        "\n",
        "kid = \"i like apple\"\n",
        "kid.replace(\"apple\", \"orange\")"
      ],
      "metadata": {
        "colab": {
          "base_uri": "https://localhost:8080/",
          "height": 35
        },
        "id": "nAWh5IGYCz_D",
        "outputId": "61d8fed8-faea-4c34-e3b7-c34eaa61bd9c"
      },
      "execution_count": 8,
      "outputs": [
        {
          "output_type": "execute_result",
          "data": {
            "text/plain": [
              "'i like orange'"
            ],
            "application/vnd.google.colaboratory.intrinsic+json": {
              "type": "string"
            }
          },
          "metadata": {},
          "execution_count": 8
        }
      ]
    },
    {
      "cell_type": "code",
      "source": [
        "# Q6. Write a code to create a list with numbers 1 to 5 and print it.\n",
        "\n",
        "no = [1, 2, 3, 4, 5]\n",
        "print(no)"
      ],
      "metadata": {
        "colab": {
          "base_uri": "https://localhost:8080/"
        },
        "id": "wULRVAOJDZsT",
        "outputId": "bdcc1fd2-f4b9-4205-d9ec-7568485dee46"
      },
      "execution_count": 9,
      "outputs": [
        {
          "output_type": "stream",
          "name": "stdout",
          "text": [
            "[1, 2, 3, 4, 5]\n"
          ]
        }
      ]
    },
    {
      "cell_type": "code",
      "source": [
        "# Q7. Write a code to append the number 10 to the list [1, 2, 3, 4].\n",
        "\n",
        "num = [1, 2, 3, 4]\n",
        "num.append(10)\n",
        "print(num)"
      ],
      "metadata": {
        "colab": {
          "base_uri": "https://localhost:8080/"
        },
        "id": "411FwBW4D0z8",
        "outputId": "7c9efe89-7828-4b26-f51a-4a6437fed832"
      },
      "execution_count": 11,
      "outputs": [
        {
          "output_type": "stream",
          "name": "stdout",
          "text": [
            "[1, 2, 3, 4, 10]\n"
          ]
        }
      ]
    },
    {
      "cell_type": "code",
      "source": [
        "# Q8. Write a code to remove the number 3 from the list [1, 2, 3, 4, 5].\n",
        "\n",
        "num = [1, 2, 3, 4, 5]\n",
        "num.remove(3)\n",
        "print(num)"
      ],
      "metadata": {
        "colab": {
          "base_uri": "https://localhost:8080/"
        },
        "id": "xZyQ4SI3EKjh",
        "outputId": "fa13dec2-0a5c-48b7-aa9f-892811626b2e"
      },
      "execution_count": 12,
      "outputs": [
        {
          "output_type": "stream",
          "name": "stdout",
          "text": [
            "[1, 2, 4, 5]\n"
          ]
        }
      ]
    },
    {
      "cell_type": "code",
      "source": [
        "# Q9. Write a code to access the second element in the list ['a', 'b', 'c', 'd'].\n",
        "\n",
        "alpha = [\"a\", \"b\", \"c\", \"d\", \"e\"]\n",
        "alpha[1]"
      ],
      "metadata": {
        "colab": {
          "base_uri": "https://localhost:8080/",
          "height": 35
        },
        "id": "hDFm0X3-EuQe",
        "outputId": "1d9aa3e3-7cf2-43d4-a6cb-ba6de64d5afb"
      },
      "execution_count": 16,
      "outputs": [
        {
          "output_type": "execute_result",
          "data": {
            "text/plain": [
              "'b'"
            ],
            "application/vnd.google.colaboratory.intrinsic+json": {
              "type": "string"
            }
          },
          "metadata": {},
          "execution_count": 16
        }
      ]
    },
    {
      "cell_type": "code",
      "source": [
        "# Q10. Write a code to reverse the list [10, 20, 30, 40, 50].\n",
        "\n",
        "numbers = [10, 20, 30, 40, 50]\n",
        "numbers.reverse()\n",
        "print(numbers)"
      ],
      "metadata": {
        "colab": {
          "base_uri": "https://localhost:8080/"
        },
        "id": "BLz9ctCyFBii",
        "outputId": "3f4d7cbe-07a4-4177-cf98-31c33fb9556e"
      },
      "execution_count": 17,
      "outputs": [
        {
          "output_type": "stream",
          "name": "stdout",
          "text": [
            "[50, 40, 30, 20, 10]\n"
          ]
        }
      ]
    },
    {
      "cell_type": "code",
      "source": [
        "# Q11. Write a code to create a tuple with the elements 100, 200, 300 and print it.\n",
        "\n",
        "number = (100, 200 ,300)\n",
        "print(number)"
      ],
      "metadata": {
        "colab": {
          "base_uri": "https://localhost:8080/"
        },
        "id": "0abKUkeIF0ur",
        "outputId": "669da204-8187-44c6-c6c2-f2e0ab464a83"
      },
      "execution_count": 21,
      "outputs": [
        {
          "output_type": "stream",
          "name": "stdout",
          "text": [
            "(100, 200, 300)\n"
          ]
        }
      ]
    },
    {
      "cell_type": "code",
      "source": [
        "# Q12. Write a code to access the second-to-last element of the tuple ('red', 'green', 'blue', 'yellow').\n",
        "\n",
        "col = (\"red\", \"green\", \"blue\", \"yellow\")\n",
        "col[-2]"
      ],
      "metadata": {
        "colab": {
          "base_uri": "https://localhost:8080/",
          "height": 35
        },
        "id": "IgI19Pf3GOrh",
        "outputId": "295fe4ff-31f5-4d0a-992e-df52054bb762"
      },
      "execution_count": 22,
      "outputs": [
        {
          "output_type": "execute_result",
          "data": {
            "text/plain": [
              "'blue'"
            ],
            "application/vnd.google.colaboratory.intrinsic+json": {
              "type": "string"
            }
          },
          "metadata": {},
          "execution_count": 22
        }
      ]
    },
    {
      "cell_type": "code",
      "source": [
        "# Q13. Write a code to find the minimum number in the tuple (10, 20, 5, 15).\n",
        "\n",
        "no = (10, 20, 5, 15)\n",
        "min(no)"
      ],
      "metadata": {
        "colab": {
          "base_uri": "https://localhost:8080/"
        },
        "id": "F7zB-lZKGwuD",
        "outputId": "298e0687-f33f-41ee-f255-68d24d98052d"
      },
      "execution_count": 23,
      "outputs": [
        {
          "output_type": "execute_result",
          "data": {
            "text/plain": [
              "5"
            ]
          },
          "metadata": {},
          "execution_count": 23
        }
      ]
    },
    {
      "cell_type": "code",
      "source": [
        "# Q14.  Write a code to find the index of the element \"cat\" in the tuple ('dog', 'cat', 'rabbit').\n",
        "\n",
        "animals = (\"dog\", \"cat\", \"rabbit\")\n",
        "animals.index(\"cat\")"
      ],
      "metadata": {
        "colab": {
          "base_uri": "https://localhost:8080/"
        },
        "id": "r2r1LyXvHkcS",
        "outputId": "087c669c-c4ff-4aaa-d6cc-6ad0de7f1e03"
      },
      "execution_count": 24,
      "outputs": [
        {
          "output_type": "execute_result",
          "data": {
            "text/plain": [
              "1"
            ]
          },
          "metadata": {},
          "execution_count": 24
        }
      ]
    },
    {
      "cell_type": "code",
      "source": [
        "# Q15.Write a code to create a tuple containing three different fruits and check if \"kiwi\" is in it.\n",
        "\n",
        "fruits = (\"apple\", \"banana\", \"orange\")\n",
        "\"kiwi\" in fruits\n"
      ],
      "metadata": {
        "colab": {
          "base_uri": "https://localhost:8080/"
        },
        "id": "ltivyTX4H5br",
        "outputId": "78dd4687-64e0-458c-db22-1af57eae6bc5"
      },
      "execution_count": 25,
      "outputs": [
        {
          "output_type": "execute_result",
          "data": {
            "text/plain": [
              "False"
            ]
          },
          "metadata": {},
          "execution_count": 25
        }
      ]
    },
    {
      "cell_type": "code",
      "source": [
        "# Q16. Write a code to create a set with the elements 'a', 'b', 'c' and print it.\n",
        "\n",
        "alp = {\"a\", \"b\", \"c\"}\n",
        "print(alp)"
      ],
      "metadata": {
        "colab": {
          "base_uri": "https://localhost:8080/"
        },
        "id": "bcY4nXaCIL4n",
        "outputId": "0231330e-f64f-449d-d726-252eb089df14"
      },
      "execution_count": 26,
      "outputs": [
        {
          "output_type": "stream",
          "name": "stdout",
          "text": [
            "{'b', 'c', 'a'}\n"
          ]
        }
      ]
    },
    {
      "cell_type": "code",
      "source": [
        "# Q17. Write a code to create a set with the elements 'a', 'b', 'c' and print it.\n",
        "\n",
        "nos = {1, 2, 3, 4, 5}\n",
        "nos.clear()"
      ],
      "metadata": {
        "id": "T3HnUEJlIfZd"
      },
      "execution_count": 27,
      "outputs": []
    },
    {
      "cell_type": "code",
      "source": [
        "# Q18.  Write a code to remove the element 4 from the set {1, 2, 3, 4}.\n",
        "\n",
        "num = {1, 2, 3, 4}\n",
        "num.remove(4)"
      ],
      "metadata": {
        "id": "0lTnS7lCIvlA"
      },
      "execution_count": 28,
      "outputs": []
    },
    {
      "cell_type": "code",
      "source": [
        "# Q19. Write a code to find the union of two sets {1, 2, 3} and {3, 4, 5}.\n",
        "\n",
        "x = {1,2,3}\n",
        "y = {3,4,5}\n",
        "x | y"
      ],
      "metadata": {
        "colab": {
          "base_uri": "https://localhost:8080/"
        },
        "id": "AuXfeQUAJIII",
        "outputId": "1c8eb071-2dec-4fc1-d4ee-723ccf88aec0"
      },
      "execution_count": 30,
      "outputs": [
        {
          "output_type": "execute_result",
          "data": {
            "text/plain": [
              "{1, 2, 3, 4, 5}"
            ]
          },
          "metadata": {},
          "execution_count": 30
        }
      ]
    },
    {
      "cell_type": "code",
      "source": [
        "# Q20.  Write a code to find the intersection of two sets {1, 2, 3} and {2, 3, 4}.\n",
        "\n",
        "m = {1,2,3}\n",
        "n = {2,3,4}\n",
        "m & n"
      ],
      "metadata": {
        "colab": {
          "base_uri": "https://localhost:8080/"
        },
        "id": "ge6OyIq0Jcak",
        "outputId": "1d5208b8-5bd9-4ad2-ee00-7b3074f63da7"
      },
      "execution_count": 31,
      "outputs": [
        {
          "output_type": "execute_result",
          "data": {
            "text/plain": [
              "{2, 3}"
            ]
          },
          "metadata": {},
          "execution_count": 31
        }
      ]
    },
    {
      "cell_type": "code",
      "source": [
        "# Q21. Write a code to create a dictionary with the keys \"name\", \"age\", and \"city\", and print it.\n",
        "\n",
        "dict_1 = {\"name\" : \"aman\", \"age\" : 22 , \"city\" : \"delhi\"}\n",
        "print(dict_1)"
      ],
      "metadata": {
        "colab": {
          "base_uri": "https://localhost:8080/"
        },
        "id": "VgmrQ9xjJybo",
        "outputId": "c709db8e-4d6b-43b7-b360-2cb3d62e174b"
      },
      "execution_count": 34,
      "outputs": [
        {
          "output_type": "stream",
          "name": "stdout",
          "text": [
            "{'name': 'aman', 'age': 22, 'city': 'delhi'}\n"
          ]
        }
      ]
    },
    {
      "cell_type": "code",
      "source": [
        "# Q22.  Write a code to add a new key-value pair \"country\": \"USA\" to the dictionary {'name': 'John', 'age': 25}.\n",
        "\n",
        "dict_2 = {\"name\":\"john\" , \"age\":25}\n",
        "dict_2[\"country\"]= \"USA\"\n",
        "print(dict_2)"
      ],
      "metadata": {
        "colab": {
          "base_uri": "https://localhost:8080/"
        },
        "id": "Ye26i-cgKOoA",
        "outputId": "8e4468b8-0c9a-47c8-f4b0-8572b851d8b3"
      },
      "execution_count": 37,
      "outputs": [
        {
          "output_type": "stream",
          "name": "stdout",
          "text": [
            "{'name': 'john', 'age': 25, 'country': 'USA'}\n"
          ]
        }
      ]
    },
    {
      "cell_type": "code",
      "source": [
        "# Q23. Write a code to access the value associated with the key \"name\" in the dictionary {'name': 'Alice', 'age': 30}.\n",
        "\n",
        "dict_3 = {\"name\" : \"Alice\" , \"age\" : 30}\n",
        "dict_3[\"name\"]"
      ],
      "metadata": {
        "colab": {
          "base_uri": "https://localhost:8080/",
          "height": 35
        },
        "id": "bhAqNeNWLdNn",
        "outputId": "82130340-a6b0-4f18-f018-dc482360a10d"
      },
      "execution_count": 42,
      "outputs": [
        {
          "output_type": "execute_result",
          "data": {
            "text/plain": [
              "'Alice'"
            ],
            "application/vnd.google.colaboratory.intrinsic+json": {
              "type": "string"
            }
          },
          "metadata": {},
          "execution_count": 42
        }
      ]
    },
    {
      "cell_type": "code",
      "source": [
        "# Q24. Write a code to remove the key \"age\" from the dictionary {'name': 'Bob', 'age': 22, 'city': 'New York'}.\n",
        "\n",
        "dict_4 = {\"name\" : \"Bob\" , \"age\" : 22 , \"city\" : \"new york\"}\n",
        "del dict_4[\"age\"]"
      ],
      "metadata": {
        "id": "QD7NshOlMNQH"
      },
      "execution_count": 43,
      "outputs": []
    },
    {
      "cell_type": "code",
      "source": [
        "# Q25. Write a code to check if the key \"city\" exists in the dictionary {'name': 'Alice', 'city': 'Paris'}.\n",
        "\n",
        "dict_5 = {\"name\" : \"ALice\", \"city\" : \"paris\"}\n",
        "\"city\" in dict_5"
      ],
      "metadata": {
        "colab": {
          "base_uri": "https://localhost:8080/"
        },
        "id": "nprMX-kxNkFf",
        "outputId": "69a06b61-0c6b-4181-dbbb-a16a460e3649"
      },
      "execution_count": 45,
      "outputs": [
        {
          "output_type": "execute_result",
          "data": {
            "text/plain": [
              "True"
            ]
          },
          "metadata": {},
          "execution_count": 45
        }
      ]
    },
    {
      "cell_type": "code",
      "source": [
        "# Q26. Write a code to create a list, a tuple, and a dictionary, and print them all.\n",
        "\n",
        "a1 = [1,2,3]\n",
        "a2 = (1,2,3)\n",
        "a3 = {\"n1\":1, \"n2\":2, \"n3\":3}\n",
        "print(a1)\n",
        "print(a2)\n",
        "print(a3)"
      ],
      "metadata": {
        "colab": {
          "base_uri": "https://localhost:8080/"
        },
        "id": "iwSgfF6_N76g",
        "outputId": "7e16ef89-9b85-48e2-8bf4-0101f32f5ab8"
      },
      "execution_count": 47,
      "outputs": [
        {
          "output_type": "stream",
          "name": "stdout",
          "text": [
            "[1, 2, 3]\n",
            "(1, 2, 3)\n",
            "{'n1': 1, 'n2': 2, 'n3': 3}\n"
          ]
        }
      ]
    },
    {
      "cell_type": "code",
      "source": [
        "# Q27.  Write a code to create a list of 5 random numbers between 1 and 100, sort it in ascending order, and print the result\n",
        "\n",
        "number = [7 , 56, 90, 23, 88]\n",
        "number.sort()\n",
        "print(number)\n"
      ],
      "metadata": {
        "colab": {
          "base_uri": "https://localhost:8080/"
        },
        "id": "tl5D9co2O3F9",
        "outputId": "1b7bdbcc-0512-4cfb-b704-8a1efd853711"
      },
      "execution_count": 52,
      "outputs": [
        {
          "output_type": "stream",
          "name": "stdout",
          "text": [
            "[7, 23, 56, 88, 90]\n"
          ]
        }
      ]
    },
    {
      "cell_type": "code",
      "source": [
        "# Q28. Write a code to create a list with strings and print the element at the third index.\n",
        "\n",
        "list_1 = [\"ajay\", \"mohan\" , \"priya\" , \"jiya\"]\n",
        "print(list_1[2])"
      ],
      "metadata": {
        "colab": {
          "base_uri": "https://localhost:8080/"
        },
        "id": "z3O_PmQNPWQ0",
        "outputId": "bd1c114c-fe15-4017-d411-dc6267ecd514"
      },
      "execution_count": 55,
      "outputs": [
        {
          "output_type": "stream",
          "name": "stdout",
          "text": [
            "priya\n"
          ]
        }
      ]
    },
    {
      "cell_type": "code",
      "source": [
        "# Q29. Write a code to combine two dictionaries into one and print the result.\n",
        "\n",
        "dict_6 = {\"a\":1, \"b\":2}\n",
        "dict_7 = {\"c\":3, \"d\":4}\n",
        "dict_8 = {}\n",
        "dict_8.update(dict_6)\n",
        "dict_8.update(dict_7)\n",
        "print(dict_8)"
      ],
      "metadata": {
        "colab": {
          "base_uri": "https://localhost:8080/"
        },
        "id": "3Hc7XVcyQwwo",
        "outputId": "99738a36-a748-477c-83c4-2f0b7b3017f9"
      },
      "execution_count": 62,
      "outputs": [
        {
          "output_type": "stream",
          "name": "stdout",
          "text": [
            "{'a': 1, 'b': 2, 'c': 3, 'd': 4}\n"
          ]
        }
      ]
    },
    {
      "cell_type": "code",
      "source": [
        "# Q30. Write a code to convert a list of strings into a set.\n",
        "\n",
        "list_2 = [\"a\", \"b\" , \"c\" , \"d\"]\n",
        "set(list_2)"
      ],
      "metadata": {
        "colab": {
          "base_uri": "https://localhost:8080/"
        },
        "id": "G8e1jOHCRE4-",
        "outputId": "2c039ab6-3dbc-4e54-a390-6bc8b5f29db8"
      },
      "execution_count": 63,
      "outputs": [
        {
          "output_type": "execute_result",
          "data": {
            "text/plain": [
              "{'a', 'b', 'c', 'd'}"
            ]
          },
          "metadata": {},
          "execution_count": 63
        }
      ]
    },
    {
      "cell_type": "code",
      "source": [],
      "metadata": {
        "id": "NYtr7xc6Sfyj"
      },
      "execution_count": null,
      "outputs": []
    }
  ]
}